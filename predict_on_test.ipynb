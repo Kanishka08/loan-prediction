{
 "cells": [
  {
   "cell_type": "code",
   "execution_count": 1,
   "id": "60a0e484",
   "metadata": {},
   "outputs": [],
   "source": [
    "import pandas as pd\n",
    "import joblib\n",
    "from sklearn.impute import SimpleImputer"
   ]
  },
  {
   "cell_type": "code",
   "execution_count": 2,
   "id": "77c825e2",
   "metadata": {},
   "outputs": [],
   "source": [
    "# Load test data\n",
    "df = pd.read_csv(\"test_Y3wMUE5_7gLdaTN.csv\")\n",
    "loan_ids = df[\"Loan_ID\"]\n",
    "df.drop(columns=[\"Loan_ID\"], inplace=True)"
   ]
  },
  {
   "cell_type": "code",
   "execution_count": 3,
   "id": "d85399bd",
   "metadata": {},
   "outputs": [],
   "source": [
    "# Define columns\n",
    "cat_cols = ['Gender', 'Married', 'Dependents', 'Education', 'Self_Employed', 'Property_Area']\n",
    "num_cols = ['ApplicantIncome', 'CoapplicantIncome', 'LoanAmount', 'Loan_Amount_Term', 'Credit_History']"
   ]
  },
  {
   "cell_type": "code",
   "execution_count": 4,
   "id": "4a652ab9",
   "metadata": {},
   "outputs": [],
   "source": [
    "# Load model & encoders\n",
    "model = joblib.load(\"loan_model.pkl\")\n",
    "encoders = joblib.load(\"encoders.pkl\")\n",
    "target_le = joblib.load(\"target_encoder.pkl\")"
   ]
  },
  {
   "cell_type": "code",
   "execution_count": 5,
   "id": "7e5b7e32",
   "metadata": {},
   "outputs": [],
   "source": [
    "# Imputation\n",
    "cat_imputer = SimpleImputer(strategy=\"most_frequent\")\n",
    "num_imputer = SimpleImputer(strategy=\"mean\")"
   ]
  },
  {
   "cell_type": "code",
   "execution_count": 6,
   "id": "cbf72bc2",
   "metadata": {},
   "outputs": [],
   "source": [
    "df[cat_cols] = cat_imputer.fit_transform(df[cat_cols])\n",
    "df[num_cols] = num_imputer.fit_transform(df[num_cols])"
   ]
  },
  {
   "cell_type": "code",
   "execution_count": 7,
   "id": "fcaa3976",
   "metadata": {},
   "outputs": [],
   "source": [
    "# Feature engineering\n",
    "df[\"Total_Income\"] = df[\"ApplicantIncome\"] + df[\"CoapplicantIncome\"]\n",
    "df[\"Income_Loan_Ratio\"] = df[\"Total_Income\"] / (df[\"LoanAmount\"] + 1)"
   ]
  },
  {
   "cell_type": "code",
   "execution_count": 8,
   "id": "2cebdbde",
   "metadata": {},
   "outputs": [],
   "source": [
    "# Encode categoricals\n",
    "for col in cat_cols:\n",
    "    df[col] = encoders[col].transform(df[col])"
   ]
  },
  {
   "cell_type": "code",
   "execution_count": 9,
   "id": "568130ed",
   "metadata": {},
   "outputs": [],
   "source": [
    "# Predict\n",
    "predictions = model.predict(df)\n",
    "predicted_labels = target_le.inverse_transform(predictions)"
   ]
  },
  {
   "cell_type": "code",
   "execution_count": 12,
   "id": "0ce3173c",
   "metadata": {},
   "outputs": [
    {
     "name": "stdout",
     "output_type": "stream",
     "text": [
      "  Predicted_Loan_Status\n",
      "0                     Y\n",
      "1                     Y\n",
      "2                     Y\n",
      "3                     Y\n",
      "4                     Y\n"
     ]
    }
   ],
   "source": [
    "df[\"Predicted_Loan_Status\"] = predicted_labels\n",
    "print(df[[\"Predicted_Loan_Status\"]].head())"
   ]
  }
 ],
 "metadata": {
  "kernelspec": {
   "display_name": "base",
   "language": "python",
   "name": "python3"
  },
  "language_info": {
   "codemirror_mode": {
    "name": "ipython",
    "version": 3
   },
   "file_extension": ".py",
   "mimetype": "text/x-python",
   "name": "python",
   "nbconvert_exporter": "python",
   "pygments_lexer": "ipython3",
   "version": "3.12.7"
  }
 },
 "nbformat": 4,
 "nbformat_minor": 5
}
