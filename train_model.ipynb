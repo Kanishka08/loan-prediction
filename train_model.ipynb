{
 "cells": [
  {
   "cell_type": "code",
   "execution_count": 1,
   "id": "32a57146",
   "metadata": {},
   "outputs": [],
   "source": [
    "import pandas as pd\n",
    "import joblib\n",
    "from sklearn.model_selection import train_test_split, GridSearchCV\n",
    "from sklearn.preprocessing import LabelEncoder\n",
    "from sklearn.preprocessing import StandardScaler\n",
    "from sklearn.impute import SimpleImputer\n",
    "from sklearn.ensemble import RandomForestClassifier\n",
    "from sklearn.linear_model import LogisticRegression\n",
    "from sklearn.neighbors import KNeighborsClassifier\n",
    "from sklearn.svm import SVC\n",
    "from sklearn.metrics import accuracy_score, precision_score, recall_score, f1_score, classification_report, confusion_matrix, roc_auc_score"
   ]
  },
  {
   "cell_type": "code",
   "execution_count": 2,
   "id": "2132dfa6",
   "metadata": {},
   "outputs": [],
   "source": [
    "# Load data\n",
    "df = pd.read_csv(\"train_u6lujuX_CVtuZ9i.csv\")"
   ]
  },
  {
   "cell_type": "code",
   "execution_count": 3,
   "id": "04877672",
   "metadata": {},
   "outputs": [
    {
     "name": "stdout",
     "output_type": "stream",
     "text": [
      "<class 'pandas.core.frame.DataFrame'>\n",
      "RangeIndex: 614 entries, 0 to 613\n",
      "Data columns (total 13 columns):\n",
      " #   Column             Non-Null Count  Dtype  \n",
      "---  ------             --------------  -----  \n",
      " 0   Loan_ID            614 non-null    object \n",
      " 1   Gender             601 non-null    object \n",
      " 2   Married            611 non-null    object \n",
      " 3   Dependents         599 non-null    object \n",
      " 4   Education          614 non-null    object \n",
      " 5   Self_Employed      582 non-null    object \n",
      " 6   ApplicantIncome    614 non-null    int64  \n",
      " 7   CoapplicantIncome  614 non-null    float64\n",
      " 8   LoanAmount         592 non-null    float64\n",
      " 9   Loan_Amount_Term   600 non-null    float64\n",
      " 10  Credit_History     564 non-null    float64\n",
      " 11  Property_Area      614 non-null    object \n",
      " 12  Loan_Status        614 non-null    object \n",
      "dtypes: float64(4), int64(1), object(8)\n",
      "memory usage: 62.5+ KB\n",
      "None\n"
     ]
    }
   ],
   "source": [
    "print(df.info())"
   ]
  },
  {
   "cell_type": "code",
   "execution_count": 4,
   "id": "3ee87fbd",
   "metadata": {},
   "outputs": [
    {
     "data": {
      "text/plain": [
       "Loan_ID               0\n",
       "Gender               13\n",
       "Married               3\n",
       "Dependents           15\n",
       "Education             0\n",
       "Self_Employed        32\n",
       "ApplicantIncome       0\n",
       "CoapplicantIncome     0\n",
       "LoanAmount           22\n",
       "Loan_Amount_Term     14\n",
       "Credit_History       50\n",
       "Property_Area         0\n",
       "Loan_Status           0\n",
       "dtype: int64"
      ]
     },
     "execution_count": 4,
     "metadata": {},
     "output_type": "execute_result"
    }
   ],
   "source": [
    "df.isna().sum()"
   ]
  },
  {
   "cell_type": "code",
   "execution_count": 5,
   "id": "493b79cc",
   "metadata": {},
   "outputs": [],
   "source": [
    "df.drop(columns=[\"Loan_ID\"], inplace=True)"
   ]
  },
  {
   "cell_type": "code",
   "execution_count": 6,
   "id": "9b44b43a",
   "metadata": {},
   "outputs": [],
   "source": [
    "# Separate target\n",
    "target = df[\"Loan_Status\"]\n",
    "df.drop(columns=[\"Loan_Status\"], inplace=True)"
   ]
  },
  {
   "cell_type": "code",
   "execution_count": 7,
   "id": "77224751",
   "metadata": {},
   "outputs": [],
   "source": [
    "# Define column types\n",
    "cat_cols = ['Gender', 'Married', 'Dependents', 'Education', 'Self_Employed', 'Property_Area']\n",
    "num_cols = ['ApplicantIncome', 'CoapplicantIncome', 'LoanAmount', 'Loan_Amount_Term', 'Credit_History']"
   ]
  },
  {
   "cell_type": "code",
   "execution_count": 8,
   "id": "2ee75e0c",
   "metadata": {},
   "outputs": [],
   "source": [
    "# Impute missing values\n",
    "cat_imputer = SimpleImputer(strategy=\"most_frequent\")\n",
    "num_imputer = SimpleImputer(strategy=\"mean\")"
   ]
  },
  {
   "cell_type": "code",
   "execution_count": 9,
   "id": "1f04c579",
   "metadata": {},
   "outputs": [],
   "source": [
    "df[cat_cols] = cat_imputer.fit_transform(df[cat_cols])\n",
    "df[num_cols] = num_imputer.fit_transform(df[num_cols])"
   ]
  },
  {
   "cell_type": "code",
   "execution_count": 10,
   "id": "97cfbaf1",
   "metadata": {},
   "outputs": [
    {
     "data": {
      "text/plain": [
       "Gender               0\n",
       "Married              0\n",
       "Dependents           0\n",
       "Education            0\n",
       "Self_Employed        0\n",
       "ApplicantIncome      0\n",
       "CoapplicantIncome    0\n",
       "LoanAmount           0\n",
       "Loan_Amount_Term     0\n",
       "Credit_History       0\n",
       "Property_Area        0\n",
       "dtype: int64"
      ]
     },
     "execution_count": 10,
     "metadata": {},
     "output_type": "execute_result"
    }
   ],
   "source": [
    "df.isna().sum()"
   ]
  },
  {
   "cell_type": "code",
   "execution_count": 11,
   "id": "039efbc1",
   "metadata": {},
   "outputs": [],
   "source": [
    "# Feature engineering\n",
    "df[\"Total_Income\"] = df[\"ApplicantIncome\"] + df[\"CoapplicantIncome\"]\n",
    "df[\"Income_Loan_Ratio\"] = df[\"Total_Income\"] / (df[\"LoanAmount\"] + 1)"
   ]
  },
  {
   "cell_type": "code",
   "execution_count": 12,
   "id": "beb4e4ef",
   "metadata": {},
   "outputs": [],
   "source": [
    "# Encode categoricals\n",
    "encoders = {}\n",
    "for col in cat_cols:\n",
    "    le = LabelEncoder()\n",
    "    df[col] = le.fit_transform(df[col])\n",
    "    encoders[col] = le"
   ]
  },
  {
   "cell_type": "code",
   "execution_count": 13,
   "id": "a640718e",
   "metadata": {},
   "outputs": [],
   "source": [
    "# Encode target\n",
    "target_le = LabelEncoder()\n",
    "y = target_le.fit_transform(target)"
   ]
  },
  {
   "cell_type": "code",
   "execution_count": 14,
   "id": "e782e05f",
   "metadata": {},
   "outputs": [
    {
     "data": {
      "text/html": [
       "<div>\n",
       "<style scoped>\n",
       "    .dataframe tbody tr th:only-of-type {\n",
       "        vertical-align: middle;\n",
       "    }\n",
       "\n",
       "    .dataframe tbody tr th {\n",
       "        vertical-align: top;\n",
       "    }\n",
       "\n",
       "    .dataframe thead th {\n",
       "        text-align: right;\n",
       "    }\n",
       "</style>\n",
       "<table border=\"1\" class=\"dataframe\">\n",
       "  <thead>\n",
       "    <tr style=\"text-align: right;\">\n",
       "      <th></th>\n",
       "      <th>Gender</th>\n",
       "      <th>Married</th>\n",
       "      <th>Dependents</th>\n",
       "      <th>Education</th>\n",
       "      <th>Self_Employed</th>\n",
       "      <th>ApplicantIncome</th>\n",
       "      <th>CoapplicantIncome</th>\n",
       "      <th>LoanAmount</th>\n",
       "      <th>Loan_Amount_Term</th>\n",
       "      <th>Credit_History</th>\n",
       "      <th>Property_Area</th>\n",
       "      <th>Total_Income</th>\n",
       "      <th>Income_Loan_Ratio</th>\n",
       "    </tr>\n",
       "  </thead>\n",
       "  <tbody>\n",
       "    <tr>\n",
       "      <th>0</th>\n",
       "      <td>1</td>\n",
       "      <td>0</td>\n",
       "      <td>0</td>\n",
       "      <td>0</td>\n",
       "      <td>0</td>\n",
       "      <td>5849.0</td>\n",
       "      <td>0.0</td>\n",
       "      <td>146.412162</td>\n",
       "      <td>360.0</td>\n",
       "      <td>1.0</td>\n",
       "      <td>2</td>\n",
       "      <td>5849.0</td>\n",
       "      <td>39.677866</td>\n",
       "    </tr>\n",
       "    <tr>\n",
       "      <th>1</th>\n",
       "      <td>1</td>\n",
       "      <td>1</td>\n",
       "      <td>1</td>\n",
       "      <td>0</td>\n",
       "      <td>0</td>\n",
       "      <td>4583.0</td>\n",
       "      <td>1508.0</td>\n",
       "      <td>128.000000</td>\n",
       "      <td>360.0</td>\n",
       "      <td>1.0</td>\n",
       "      <td>0</td>\n",
       "      <td>6091.0</td>\n",
       "      <td>47.217054</td>\n",
       "    </tr>\n",
       "    <tr>\n",
       "      <th>2</th>\n",
       "      <td>1</td>\n",
       "      <td>1</td>\n",
       "      <td>0</td>\n",
       "      <td>0</td>\n",
       "      <td>1</td>\n",
       "      <td>3000.0</td>\n",
       "      <td>0.0</td>\n",
       "      <td>66.000000</td>\n",
       "      <td>360.0</td>\n",
       "      <td>1.0</td>\n",
       "      <td>2</td>\n",
       "      <td>3000.0</td>\n",
       "      <td>44.776119</td>\n",
       "    </tr>\n",
       "    <tr>\n",
       "      <th>3</th>\n",
       "      <td>1</td>\n",
       "      <td>1</td>\n",
       "      <td>0</td>\n",
       "      <td>1</td>\n",
       "      <td>0</td>\n",
       "      <td>2583.0</td>\n",
       "      <td>2358.0</td>\n",
       "      <td>120.000000</td>\n",
       "      <td>360.0</td>\n",
       "      <td>1.0</td>\n",
       "      <td>2</td>\n",
       "      <td>4941.0</td>\n",
       "      <td>40.834711</td>\n",
       "    </tr>\n",
       "    <tr>\n",
       "      <th>4</th>\n",
       "      <td>1</td>\n",
       "      <td>0</td>\n",
       "      <td>0</td>\n",
       "      <td>0</td>\n",
       "      <td>0</td>\n",
       "      <td>6000.0</td>\n",
       "      <td>0.0</td>\n",
       "      <td>141.000000</td>\n",
       "      <td>360.0</td>\n",
       "      <td>1.0</td>\n",
       "      <td>2</td>\n",
       "      <td>6000.0</td>\n",
       "      <td>42.253521</td>\n",
       "    </tr>\n",
       "  </tbody>\n",
       "</table>\n",
       "</div>"
      ],
      "text/plain": [
       "   Gender  Married  Dependents  Education  Self_Employed  ApplicantIncome  \\\n",
       "0       1        0           0          0              0           5849.0   \n",
       "1       1        1           1          0              0           4583.0   \n",
       "2       1        1           0          0              1           3000.0   \n",
       "3       1        1           0          1              0           2583.0   \n",
       "4       1        0           0          0              0           6000.0   \n",
       "\n",
       "   CoapplicantIncome  LoanAmount  Loan_Amount_Term  Credit_History  \\\n",
       "0                0.0  146.412162             360.0             1.0   \n",
       "1             1508.0  128.000000             360.0             1.0   \n",
       "2                0.0   66.000000             360.0             1.0   \n",
       "3             2358.0  120.000000             360.0             1.0   \n",
       "4                0.0  141.000000             360.0             1.0   \n",
       "\n",
       "   Property_Area  Total_Income  Income_Loan_Ratio  \n",
       "0              2        5849.0          39.677866  \n",
       "1              0        6091.0          47.217054  \n",
       "2              2        3000.0          44.776119  \n",
       "3              2        4941.0          40.834711  \n",
       "4              2        6000.0          42.253521  "
      ]
     },
     "execution_count": 14,
     "metadata": {},
     "output_type": "execute_result"
    }
   ],
   "source": [
    "df.head()"
   ]
  },
  {
   "cell_type": "code",
   "execution_count": 15,
   "id": "cdd8ac3d",
   "metadata": {},
   "outputs": [
    {
     "data": {
      "text/plain": [
       "['target_encoder.pkl']"
      ]
     },
     "execution_count": 15,
     "metadata": {},
     "output_type": "execute_result"
    }
   ],
   "source": [
    "# Save target encoder\n",
    "joblib.dump(target_le, \"target_encoder.pkl\")"
   ]
  },
  {
   "cell_type": "code",
   "execution_count": 16,
   "id": "715736c5",
   "metadata": {},
   "outputs": [
    {
     "data": {
      "text/plain": [
       "['encoders.pkl']"
      ]
     },
     "execution_count": 16,
     "metadata": {},
     "output_type": "execute_result"
    }
   ],
   "source": [
    "# Save encoders\n",
    "joblib.dump(encoders,\"encoders.pkl\")"
   ]
  },
  {
   "cell_type": "code",
   "execution_count": 17,
   "id": "9cae05bc",
   "metadata": {},
   "outputs": [],
   "source": [
    "# Prepare model input\n",
    "X = df\n",
    "X_train, X_test, y_train, y_test = train_test_split(X, y, test_size=0.2, random_state=42)"
   ]
  },
  {
   "cell_type": "code",
   "execution_count": null,
   "id": "e73a7779",
   "metadata": {},
   "outputs": [
    {
     "name": "stdout",
     "output_type": "stream",
     "text": [
      "Confusion Matrix:\n",
      " [[20 23]\n",
      " [ 7 73]]\n",
      "\n",
      "Classification Report:\n",
      "               precision    recall  f1-score   support\n",
      "\n",
      "           0       0.74      0.47      0.57        43\n",
      "           1       0.76      0.91      0.83        80\n",
      "\n",
      "    accuracy                           0.76       123\n",
      "   macro avg       0.75      0.69      0.70       123\n",
      "weighted avg       0.75      0.76      0.74       123\n",
      "\n",
      "Accuracy: 0.7560975609756098\n",
      "roc-auc-score: 0.7308139534883721\n"
     ]
    }
   ],
   "source": [
    "# -----------------------------\n",
    "# Model 1: Logistic Regression\n",
    "# -----------------------------\n",
    "\n",
    "\n",
    "from sklearn.linear_model import LogisticRegression\n",
    "from sklearn.metrics import classification_report, confusion_matrix, accuracy_score\n",
    "from sklearn.preprocessing import StandardScaler\n",
    "\n",
    "scaler = StandardScaler()\n",
    "X_train_scaled = scaler.fit_transform(X_train)\n",
    "X_test_scaled = scaler.transform(X_test)\n",
    "\n",
    "\n",
    "log_reg = LogisticRegression(max_iter=2000, class_weight='balanced', random_state=42)\n",
    "log_reg.fit(X_train_scaled, y_train)\n",
    "y_pred_log = log_reg.predict(X_test_scaled)\n",
    "\n",
    "print(\"Confusion Matrix:\\n\", confusion_matrix(y_test, y_pred_log))\n",
    "print(\"\\nClassification Report:\\n\", classification_report(y_test, y_pred_log))\n",
    "print(\"Accuracy:\", accuracy_score(y_test, y_pred_log))\n",
    "print(\"roc-auc-score:\", roc_auc_score(y_test, log_reg.predict_proba(X_test_scaled)[:,1]))\n"
   ]
  },
  {
   "cell_type": "code",
   "execution_count": 24,
   "id": "e29dc2b2",
   "metadata": {},
   "outputs": [
    {
     "name": "stdout",
     "output_type": "stream",
     "text": [
      "Confusion Matrix:\n",
      " [[ 5 38]\n",
      " [15 65]]\n",
      "\n",
      "Classification Report:\n",
      "               precision    recall  f1-score   support\n",
      "\n",
      "           0       0.25      0.12      0.16        43\n",
      "           1       0.63      0.81      0.71        80\n",
      "\n",
      "    accuracy                           0.57       123\n",
      "   macro avg       0.44      0.46      0.43       123\n",
      "weighted avg       0.50      0.57      0.52       123\n",
      "\n",
      "Accuracy: 0.5691056910569106\n",
      "roc-auc-score: 0.5068313953488371\n"
     ]
    }
   ],
   "source": [
    "from sklearn.neighbors import KNeighborsClassifier\n",
    "\n",
    "knn = KNeighborsClassifier(n_neighbors=5)\n",
    "knn.fit(X_train, y_train)\n",
    "y_pred_knn = knn.predict(X_test)\n",
    "\n",
    "print(\"Confusion Matrix:\\n\", confusion_matrix(y_test, y_pred_knn))\n",
    "print(\"\\nClassification Report:\\n\", classification_report(y_test, y_pred_knn))\n",
    "print(\"Accuracy:\", accuracy_score(y_test, y_pred_knn))\n",
    "print(\"roc-auc-score:\", roc_auc_score(y_test, knn.predict_proba(X_test)[:,1]))\n"
   ]
  },
  {
   "cell_type": "code",
   "execution_count": 25,
   "id": "7dad0a1b",
   "metadata": {},
   "outputs": [
    {
     "name": "stdout",
     "output_type": "stream",
     "text": [
      "Confusion Matrix:\n",
      " [[18 25]\n",
      " [ 6 74]]\n",
      "\n",
      "Classification Report:\n",
      "               precision    recall  f1-score   support\n",
      "\n",
      "           0       0.75      0.42      0.54        43\n",
      "           1       0.75      0.93      0.83        80\n",
      "\n",
      "    accuracy                           0.75       123\n",
      "   macro avg       0.75      0.67      0.68       123\n",
      "weighted avg       0.75      0.75      0.73       123\n",
      "\n",
      "Accuracy: 0.7479674796747967\n",
      "roc-auc-score: 0.7380813953488372\n"
     ]
    }
   ],
   "source": [
    "from sklearn.preprocessing import StandardScaler\n",
    "from sklearn.svm import SVC\n",
    "\n",
    "# Scale data for SVM\n",
    "scaler = StandardScaler()\n",
    "X_train_scaled = scaler.fit_transform(X_train)\n",
    "X_test_scaled = scaler.transform(X_test)\n",
    "\n",
    "svm = SVC(kernel='rbf', class_weight='balanced', random_state=42)\n",
    "svm.fit(X_train_scaled, y_train)\n",
    "y_pred_svm = svm.predict(X_test_scaled)\n",
    "\n",
    "print(\"Confusion Matrix:\\n\", confusion_matrix(y_test, y_pred_svm))\n",
    "print(\"\\nClassification Report:\\n\", classification_report(y_test, y_pred_svm))\n",
    "print(\"Accuracy:\", accuracy_score(y_test, y_pred_svm))\n",
    "print(\"roc-auc-score:\", roc_auc_score(y_test, svm.decision_function(X_test_scaled)))\n",
    "\n"
   ]
  },
  {
   "cell_type": "code",
   "execution_count": 26,
   "id": "321ac2a3",
   "metadata": {},
   "outputs": [
    {
     "name": "stdout",
     "output_type": "stream",
     "text": [
      "Confusion Matrix:\n",
      " [[21 22]\n",
      " [ 6 74]]\n",
      "\n",
      "Classification Report:\n",
      "               precision    recall  f1-score   support\n",
      "\n",
      "           0       0.78      0.49      0.60        43\n",
      "           1       0.77      0.93      0.84        80\n",
      "\n",
      "    accuracy                           0.77       123\n",
      "   macro avg       0.77      0.71      0.72       123\n",
      "weighted avg       0.77      0.77      0.76       123\n",
      "\n",
      "Accuracy: 0.7723577235772358\n",
      "roc-auc-score: 0.770203488372093\n"
     ]
    }
   ],
   "source": [
    "from sklearn.ensemble import RandomForestClassifier\n",
    "\n",
    "rf = RandomForestClassifier(n_estimators=100, class_weight='balanced', random_state=42)\n",
    "rf.fit(X_train, y_train)\n",
    "y_pred_rf = rf.predict(X_test)\n",
    "\n",
    "print(\"Confusion Matrix:\\n\", confusion_matrix(y_test, y_pred_rf))\n",
    "print(\"\\nClassification Report:\\n\", classification_report(y_test, y_pred_rf))\n",
    "print(\"Accuracy:\", accuracy_score(y_test, y_pred_rf))\n",
    "print(\"roc-auc-score:\", roc_auc_score(y_test, rf.predict_proba(X_test)[:,1]))\n",
    "\n",
    "\n"
   ]
  },
  {
   "cell_type": "code",
   "execution_count": null,
   "id": "e2a83e39",
   "metadata": {},
   "outputs": [
    {
     "name": "stdout",
     "output_type": "stream",
     "text": [
      "                 Model  Accuracy  Precision  Recall  F1 Score   ROC AUC\n",
      "0  Logistic Regression  0.756098   0.760417  0.9125  0.829545  0.730814\n",
      "1                  KNN  0.569106   0.631068  0.8125  0.710383  0.506831\n",
      "2                  SVM  0.747967   0.747475  0.9250  0.826816  0.738081\n",
      "3        Random Forest  0.772358   0.770833  0.9250  0.840909  0.770203\n"
     ]
    }
   ],
   "source": [
    "# Model Comparison\n",
    "# Logistic Regression\n",
    "log_acc = accuracy_score(y_test, y_pred_log)\n",
    "log_prec = precision_score(y_test, y_pred_log)\n",
    "log_rec = recall_score(y_test, y_pred_log)\n",
    "log_f1 = f1_score(y_test, y_pred_log)\n",
    "log_auc = roc_auc_score(y_test, log_reg.predict_proba(X_test_scaled)[:,1])\n",
    "\n",
    "# KNN\n",
    "knn_acc = accuracy_score(y_test, y_pred_knn)\n",
    "knn_prec = precision_score(y_test, y_pred_knn)\n",
    "knn_rec = recall_score(y_test, y_pred_knn)\n",
    "knn_f1 = f1_score(y_test, y_pred_knn)\n",
    "knn_auc = roc_auc_score(y_test, knn.predict_proba(X_test)[:,1])\n",
    "\n",
    "# SVM\n",
    "svm_acc = accuracy_score(y_test, y_pred_svm)\n",
    "svm_prec = precision_score(y_test, y_pred_svm)\n",
    "svm_rec = recall_score(y_test, y_pred_svm)\n",
    "svm_f1 = f1_score(y_test, y_pred_svm)\n",
    "svm_auc = roc_auc_score(y_test, svm.decision_function(X_test_scaled))\n",
    "\n",
    "# Random Forest\n",
    "rf_acc = accuracy_score(y_test, y_pred_rf)\n",
    "rf_prec = precision_score(y_test, y_pred_rf)\n",
    "rf_rec = recall_score(y_test, y_pred_rf)\n",
    "rf_f1 = f1_score(y_test, y_pred_rf)\n",
    "rf_auc = roc_auc_score(y_test, rf.predict_proba(X_test)[:,1])\n",
    "\n",
    "# Put results in DataFrame\n",
    "results_df = pd.DataFrame({\n",
    "    \"Model\": [\"Logistic Regression\", \"KNN\", \"SVM\", \"Random Forest\"],\n",
    "    \"Accuracy\": [log_acc, knn_acc, svm_acc, rf_acc],\n",
    "    \"Precision\": [log_prec, knn_prec, svm_prec, rf_prec],\n",
    "    \"Recall\": [log_rec, knn_rec, svm_rec, rf_rec],\n",
    "    \"F1 Score\": [log_f1, knn_f1, svm_f1, rf_f1],\n",
    "    \"ROC AUC\": [log_auc, knn_auc, svm_auc, rf_auc]\n",
    "})\n",
    "\n",
    "print(results_df)"
   ]
  },
  {
   "cell_type": "code",
   "execution_count": 29,
   "id": "5393d84c",
   "metadata": {},
   "outputs": [
    {
     "name": "stdout",
     "output_type": "stream",
     "text": [
      "\n",
      "Best Model: Random Forest\n"
     ]
    }
   ],
   "source": [
    "# Pick best model (by F1 Score, then ROC AUC)\n",
    "best_idx = results_df.sort_values(by=[\"F1 Score\",\"ROC AUC\",\"Accuracy\"], ascending=False).index[0]\n",
    "best_model_name = results_df.iloc[best_idx][\"Model\"]\n",
    "print(f\"\\nBest Model: {best_model_name}\")"
   ]
  },
  {
   "cell_type": "code",
   "execution_count": 30,
   "id": "afb39f20",
   "metadata": {},
   "outputs": [
    {
     "name": "stdout",
     "output_type": "stream",
     "text": [
      "✅ Best model saved as best_model.pkl\n"
     ]
    }
   ],
   "source": [
    "# Save the best model\n",
    "if best_model_name == \"Logistic Regression\":\n",
    "    joblib.dump(log_reg, \"best_model.pkl\")\n",
    "elif best_model_name == \"KNN\":\n",
    "    joblib.dump(knn, \"best_model.pkl\")\n",
    "elif best_model_name == \"SVM\":\n",
    "    joblib.dump(svm, \"best_model.pkl\")\n",
    "else:\n",
    "    joblib.dump(rf, \"best_model.pkl\")\n",
    "\n",
    "print(\"✅ Best model saved as best_model.pkl\")"
   ]
  }
 ],
 "metadata": {
  "kernelspec": {
   "display_name": "base",
   "language": "python",
   "name": "python3"
  },
  "language_info": {
   "codemirror_mode": {
    "name": "ipython",
    "version": 3
   },
   "file_extension": ".py",
   "mimetype": "text/x-python",
   "name": "python",
   "nbconvert_exporter": "python",
   "pygments_lexer": "ipython3",
   "version": "3.12.7"
  }
 },
 "nbformat": 4,
 "nbformat_minor": 5
}
